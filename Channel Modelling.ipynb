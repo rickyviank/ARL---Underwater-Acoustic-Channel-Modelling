{
 "cells": [
  {
   "cell_type": "code",
   "execution_count": 1,
   "metadata": {},
   "outputs": [],
   "source": [
    "import scipy.signal \n",
    "import matplotlib.pyplot as plt\n",
    "import numpy as np"
   ]
  },
  {
   "cell_type": "code",
   "execution_count": null,
   "metadata": {},
   "outputs": [
    {
     "name": "stdout",
     "output_type": "stream",
     "text": [
      "[ 0.011109    0.07070077  0.27637807  0.66361036  0.97870739  0.88658978\n",
      "  0.49331317  0.16859816  0.03539265  0.00456356]\n"
     ]
    },
    {
     "data": {
      "image/png": "[encoded data removed]",
      "text/plain": [
       "<matplotlib.figure.Figure at 0x10d830860>"
      ]
     },
     "metadata": {},
     "output_type": "display_data"
    },
    {
     "name": "stdout",
     "output_type": "stream",
     "text": [
      "Proceeds to Channel with the following signal:  [ 0.011109    0.07070077  0.27637807  0.66361036  0.97870739  0.88658978\n",
      "  0.49331317  0.16859816  0.03539265  0.00456356]\n"
     ]
    }
   ],
   "source": [
    "#input function\n",
    "selector = int(input(\"Enter type of waves: Gaussian (0), Sine(1), Cosine(2), Square(3): \"))\n",
    "t = 2*np.pi\n",
    "x = np.linspace(0,t,10)\n",
    "correct = True\n",
    "while(correct == True):\n",
    "\tif selector == 0:\n",
    "\t\ta,b,c = input(\"input parameters for the gaussian curve (scalar, mean, variance): \").split()\n",
    "\t\ta,b,c = (float(a),float(b), float(c))\n",
    "\t\tgaussian = a*np.exp(-((x-b)**2)/2*c**2)\n",
    "\t\tTx = gaussian\n",
    "\telif selector==1:\n",
    "\t\ta,b,c = input(\"input parameters for the sine curve(amplitude, frequency(Hz), phase): \").split()\n",
    "\t\ta,b,c = (float(a),float(b), float(c))\n",
    "\t\tsine = a*np.sin(x*b-c)\n",
    "\t\tTx = sine\n",
    "\telif selector==2:\n",
    "\t\ta,b,c = input(\"input parameters for the cosine curve (amplitude, frequency(Hz), phase): \").split() \n",
    "\t\ta,b,c = (float(a),float(b), float(c))\n",
    "\t\tcosine = a*np.cos(x*b-c)\n",
    "\t\tTx = cosine\n",
    "\telif selector==3:\n",
    "\t\tt = float(input(\"Time taken for square wave(s): \"))\n",
    "\t\tx = np.linspace(0,t,10)\n",
    "\t\tsquare = scipy.signal.square(2*np.pi*x)\n",
    "\t\tTx = square\n",
    "\telse:\n",
    "\t\tTx = 1\n",
    "\n",
    "\tprint (Tx)\n",
    "\n",
    "\tplt.plot(np.linspace(0,t,10),Tx)\n",
    "\tplt.show()\n",
    "\tplt.close()\n",
    "\tcheck = input(\"is this the intended input wave? (Yes/No) \")\n",
    "\n",
    "\tif(check == \"yes\" or check == \"Yes\"):\n",
    "\t\tcorrect = False\n",
    "\telse:\n",
    "\t\tprint(\"Please re-input the waves parameters.\")\n",
    "\t\tcorrect = True\n",
    "\n",
    "print(\"Proceeds to Channel with the following signal: \", Tx)"
   ]
  },
  {
   "cell_type": "code",
   "execution_count": null,
   "metadata": {},
   "outputs": [],
   "source": [
    "#channel characteristics\n",
    "h,r,d1,d2 = input(\"Channel Characteristics: Height, Range, d1 and d2 (meters): \").split()\n",
    "h,r,d1,d2 = [int(h),int(r),int(d1),int(d2)]\n",
    "f = int(input(\"Frequency of Transmitter (kHz): \"))\n",
    "eigen = int(input(\"Number of eigenpath: \"))"
   ]
  },
  {
   "cell_type": "code",
   "execution_count": null,
   "metadata": {},
   "outputs": [],
   "source": [
    "#concerned variables\n",
    "distance, lss, la, lb, angle = [0,0,0,0,0]"
   ]
  },
  {
   "cell_type": "code",
   "execution_count": null,
   "metadata": {},
   "outputs": [],
   "source": [
    "def findDistance(h,r,d1,d2,s,b):\n",
    "\tglobal distance\n",
    "\tif s>b or s==b :\n",
    "\t\tdistance = np.sqrt(r**2+((2*b*h)+d1-((-1)**(s-b))*d2)**2)\n",
    "\tif b>s :\n",
    "\t\tdistance = np.sqrt(r**2+((2*b*h)+d1-((-1)**(s-b))*d2)**2)\n",
    "\treturn distance"
   ]
  },
  {
   "cell_type": "code",
   "execution_count": null,
   "metadata": {},
   "outputs": [],
   "source": [
    "def findlss(r):\n",
    "\tglobal lss\n",
    "\tlss =  1.0/r\n",
    "\treturn lss\n"
   ]
  },
  {
   "cell_type": "code",
   "execution_count": null,
   "metadata": {},
   "outputs": [],
   "source": [
    "def findAngle(h,r,d1,d2,s,b):\n",
    "\tglobal angle\n",
    "\tif s>b or s==b:\n",
    "\t\tangle = 180*np.arctan2(r,((2*b*h)+d1-((-1)**(s-b))*d2))/np.pi\n",
    "\tif b>s:\n",
    "\t\tangle = 180*np.arctan2(r,((2*b*h)-d1+((-1)**(s-b))*d2))/np.pi\n",
    "\tif s==0 and b==0:\n",
    "\t\tangle = 0\n",
    "\treturn angle"
   ]
  },
  {
   "cell_type": "code",
   "execution_count": null,
   "metadata": {},
   "outputs": [],
   "source": [
    "m = (1500.0/1023)\n",
    "n = (1539.0/1650)\n",
    "\n",
    "def findlb (angle, m, n,s,b):\n",
    "\tglobal lb\n",
    "\tlb = np.absolute((m*np.cos(np.pi*angle/180.0)-np.sqrt((n**2-(np.sin(np.pi*angle/180.0))**2)+0j))/(m*np.cos(np.pi*angle/180.0)+np.sqrt((n**2-(np.sin(np.pi*angle/180.0))**2)+0j)))\n",
    "\treturn lb"
   ]
  },
  {
   "cell_type": "code",
   "execution_count": null,
   "metadata": {},
   "outputs": [],
   "source": [
    "salinity =  35 #value search on internet based on salinity in singapore\n",
    "oceanT =  273+26 #26 celsius for shallow water about 70m deep.\n",
    "ft = 21.9*10**(6-1520/oceanT)\n",
    "\n",
    "def findla (salinity, ft, f, distance):\n",
    "\tglobal la\n",
    "\tla = np.exp(-0.998*distance*(((salinity*(2.34*10**-6)*ft*f)/(ft**2+f**2))+(((3.38*10**-6)*f**2)/(ft))))\n",
    "\treturn la"
   ]
  },
  {
   "cell_type": "code",
   "execution_count": null,
   "metadata": {},
   "outputs": [],
   "source": [
    "tao = 0\n",
    "def findTao(distance1, distance2):\n",
    "\tglobal tao\n",
    "\ttao = (distance1 - distance2)/1500 #speed of light\n",
    "\treturn tao\n",
    "\n",
    "#def findDelay(tao,distance, distanceD):\n",
    "#\tfindTao(distance, distanceD)\n",
    "#\td = round(tao*10**9,0)/10**9 #frequency sampling\n",
    "#\tdelay.append(d)"
   ]
  },
  {
   "cell_type": "code",
   "execution_count": null,
   "metadata": {},
   "outputs": [],
   "source": [
    "def findBj(DirectDelta,s,b,e):\n",
    "\tfindDistance(h,r,d1,d2,s,b)\n",
    "\tfindAngle(h,r,d1,d2,s,b)\n",
    "\tfindTao(distance, distanceD)\n",
    "\td = round(tao*10**9,0) #frequency sampling\n",
    "\tdelay.append(d)\n",
    "\tprint (\"value of s: \", s, \"and value of b:\", b)\n",
    "\tprint (\"Distance for the \", e, \"eigen path is: \", round(distance,4))\n",
    "\tfindla(salinity, ft, f, distance)\n",
    "\tBj = lss*la*(findlb(angle,m,n,s,b)**b)*(DirectDelta)\n",
    "\tif s>b:\n",
    "\t\tBj = -Bj\n",
    "\tHn.append(Bj)\n",
    "\n",
    "\treturn Hn"
   ]
  },
  {
   "cell_type": "code",
   "execution_count": null,
   "metadata": {},
   "outputs": [],
   "source": [
    "#for the first direct Eigenpath\n",
    "findlss(r)\n",
    "distanceD = findDistance(h,r,d1,d2,0,0)\n",
    "print (\"lss is: \", round(lss,3))\n",
    "\n",
    "#Direct Delta function\n",
    "DirectDelta = 1\n"
   ]
  },
  {
   "cell_type": "code",
   "execution_count": null,
   "metadata": {},
   "outputs": [],
   "source": [
    "#iterating function (non-recursive)\n",
    "Hn = []\n",
    "delay = []\n",
    "s,b,e = [0,0,0]\n",
    "for j in range (int(eigen/3)+1):\n",
    "\tfor i in range (3):\n",
    "\t\tif eigen == e:\n",
    "\t\t\tbreak\n",
    "\t\te += 1\n",
    "\t\tfindBj(DirectDelta,s,b,e)\n",
    "\t\t#to change the s and b values\n",
    "\t\tif i == 0 or i == 2:\n",
    "\t\t\ts+= 1\n",
    "\t\telif i == 1:\n",
    "\t\t\ts-= 1\n",
    "\t\t\tb+= 1"
   ]
  },
  {
   "cell_type": "code",
   "execution_count": null,
   "metadata": {},
   "outputs": [],
   "source": [
    "#convolution code\n",
    "s1 = Tx\n",
    "s2 = Hn\n",
    "print ('s1: ', s1)\n",
    "print ('s2: ', s2)\n",
    "s3 = np.flip(s2,0)\n",
    "length = len(s1)+len(s2)-1\n",
    "\n",
    "s1_zeros = length - len(s1)\n",
    "s3_zeros = length - len(s3)\n",
    "\n",
    "temp_s1 = np.concatenate((np.zeros(s1_zeros),s1))\n",
    "temp_s2 = np.concatenate((s3, np.zeros(s3_zeros)))\n",
    "print('temp_s1 (pure input): ', temp_s1)\n",
    "print('temp_s2 (pure input): ', temp_s2)\n",
    "\n",
    "mul = 0\n",
    "out = np.zeros(length)\n",
    "\n",
    "for i in range(length):\n",
    "\tif(i==0):\n",
    "\t\tmul = temp_s1*temp_s2\n",
    "\t\tprint('temp_s2 (when i==0): ', temp_s2)\n",
    "\t\tprint('temp_s1 (when i==0): ', temp_s1)\n",
    "\t\tout[i] = sum(mul)\n",
    "\telse:\n",
    "\t\ttemp_s1 = np.concatenate((temp_s1[1:],temp_s1[:1]))#left shift, not sure how to do right shift\n",
    "\t\tprint('temp_s2: ', temp_s2)\n",
    "\t\tprint('temp_s1: ', temp_s1)\n",
    "\t\tmul = temp_s1*temp_s2\n",
    "\t\tout[i] = sum(mul)"
   ]
  },
  {
   "cell_type": "code",
   "execution_count": null,
   "metadata": {},
   "outputs": [],
   "source": [
    "#plotting the final Receiving Signal\n",
    "print (\"Delay Value: \", delay)\n",
    "print (\"Impulse Response:\", Hn)\n",
    "print (\"Final signal: \", out)\n",
    "x_axis = np.linspace(1,len(out),len(out))\n",
    "plt.plot(x_axis,out)\n",
    "plt.show()"
   ]
  }
 ],
 "metadata": {
  "kernelspec": {
   "display_name": "Python 3",
   "language": "python",
   "name": "python3"
  },
  "language_info": {
   "codemirror_mode": {
    "name": "ipython",
    "version": 3
   },
   "file_extension": ".py",
   "mimetype": "text/x-python",
   "name": "python",
   "nbconvert_exporter": "python",
   "pygments_lexer": "ipython3",
   "version": "3.6.3"
  }
 },
 "nbformat": 4,
 "nbformat_minor": 2
}
