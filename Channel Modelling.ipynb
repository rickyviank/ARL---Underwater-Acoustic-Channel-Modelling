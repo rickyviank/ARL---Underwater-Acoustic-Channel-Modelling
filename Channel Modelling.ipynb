{
 "cells": [
  {
   "cell_type": "code",
   "execution_count": 3,
   "metadata": {},
   "outputs": [],
   "source": [
    "import scipy.signal \n",
    "import matplotlib.pyplot as plt\n",
    "import numpy as np"
   ]
  },
  {
   "cell_type": "code",
   "execution_count": 4,
   "metadata": {},
   "outputs": [
    {
     "name": "stdout",
     "output_type": "stream",
     "text": [
      "[ 0.011109    0.07070077  0.27637807  0.66361036  0.97870739  0.88658978\n",
      "  0.49331317  0.16859816  0.03539265  0.00456356]\n"
     ]
    },
    {
     "data": {
      "image/png": "[encoded data removed]",
      "text/plain": [
       "<matplotlib.figure.Figure at 0x1c137197f0>"
      ]
     },
     "metadata": {},
     "output_type": "display_data"
    },
    {
     "name": "stdout",
     "output_type": "stream",
     "text": [
      "Proceeds to Channel with the following signal:  [ 0.011109    0.07070077  0.27637807  0.66361036  0.97870739  0.88658978\n",
      "  0.49331317  0.16859816  0.03539265  0.00456356]\n"
     ]
    }
   ],
   "source": [
    "#input function\n",
    "selector = int(input(\"Enter type of waves: Gaussian (0), Sine(1), Cosine(2), Square(3): \"))\n",
    "t = 2*np.pi\n",
    "x = np.linspace(0,t,10)\n",
    "correct = True\n",
    "while(correct == True):\n",
    "\tif selector == 0:\n",
    "\t\ta,b,c = input(\"input parameters for the gaussian curve (scalar, mean, variance): \").split()\n",
    "\t\ta,b,c = (float(a),float(b), float(c))\n",
    "\t\tgaussian = a*np.exp(-((x-b)**2)/2*c**2)\n",
    "\t\tTx = gaussian\n",
    "\telif selector==1:\n",
    "\t\ta,b,c = input(\"input parameters for the sine curve(amplitude, frequency(Hz), phase): \").split()\n",
    "\t\ta,b,c = (float(a),float(b), float(c))\n",
    "\t\tsine = a*np.sin(x*b-c)\n",
    "\t\tTx = sine\n",
    "\telif selector==2:\n",
    "\t\ta,b,c = input(\"input parameters for the cosine curve (amplitude, frequency(Hz), phase): \").split() \n",
    "\t\ta,b,c = (float(a),float(b), float(c))\n",
    "\t\tcosine = a*np.cos(x*b-c)\n",
    "\t\tTx = cosine\n",
    "\telif selector==3:\n",
    "\t\tt = float(input(\"Time taken for square wave(s): \"))\n",
    "\t\tx = np.linspace(0,t,10)\n",
    "\t\tsquare = scipy.signal.square(2*np.pi*x)\n",
    "\t\tTx = square\n",
    "\telse:\n",
    "\t\tTx = 1\n",
    "\n",
    "\tprint (Tx)\n",
    "\n",
    "\tplt.plot(np.linspace(0,t,10),Tx)\n",
    "\tplt.show()\n",
    "\tplt.close()\n",
    "\tcheck = input(\"is this the intended input wave? (Yes/No) \")\n",
    "\n",
    "\tif(check == \"yes\" or check == \"Yes\"):\n",
    "\t\tcorrect = False\n",
    "\telse:\n",
    "\t\tprint(\"Please re-input the waves parameters.\")\n",
    "\t\tcorrect = True\n",
    "\n",
    "print(\"Proceeds to Channel with the following signal: \", Tx)"
   ]
  },
  {
   "cell_type": "code",
   "execution_count": 5,
   "metadata": {},
   "outputs": [],
   "source": [
    "#channel characteristics\n",
    "h,r,d1,d2 = input(\"Channel Characteristics: Height, Range, d1 and d2 (meters): \").split()\n",
    "h,r,d1,d2 = [int(h),int(r),int(d1),int(d2)]\n",
    "f = int(input(\"Frequency of Transmitter (kHz): \"))\n",
    "eigen = int(input(\"Number of eigenpath: \"))"
   ]
  },
  {
   "cell_type": "code",
   "execution_count": 6,
   "metadata": {},
   "outputs": [],
   "source": [
    "#concerned variables\n",
    "distance, lss, la, lb, angle = [0,0,0,0,0]"
   ]
  },
  {
   "cell_type": "code",
   "execution_count": 7,
   "metadata": {},
   "outputs": [],
   "source": [
    "def findDistance(h,r,d1,d2,s,b):\n",
    "\tglobal distance\n",
    "\tif s>b or s==b :\n",
    "\t\tdistance = np.sqrt(r**2+((2*b*h)+d1-((-1)**(s-b))*d2)**2)\n",
    "\tif b>s :\n",
    "\t\tdistance = np.sqrt(r**2+((2*b*h)+d1-((-1)**(s-b))*d2)**2)\n",
    "\treturn distance\n",
    "\n",
    "def findlss(r):\n",
    "\tglobal lss\n",
    "\tlss =  1.0/r\n",
    "\treturn lss\n",
    "\n",
    "def findAngle(h,r,d1,d2,s,b):\n",
    "\tglobal angle\n",
    "\tif s>b or s==b:\n",
    "\t\tangle = 180*np.arctan2(r,((2*b*h)+d1-((-1)**(s-b))*d2))/np.pi\n",
    "\tif b>s:\n",
    "\t\tangle = 180*np.arctan2(r,((2*b*h)-d1+((-1)**(s-b))*d2))/np.pi\n",
    "\tif s==0 and b==0:\n",
    "\t\tangle = 0\n",
    "\treturn angle\n",
    "\n",
    "m = (1500.0/1023)\n",
    "n = (1539.0/1650)\n",
    "\n",
    "def findlb (angle, m, n,s,b):\n",
    "\tglobal lb\n",
    "\tlb = np.absolute((m*np.cos(np.pi*angle/180.0)-np.sqrt((n**2-(np.sin(np.pi*angle/180.0))**2)+0j))/(m*np.cos(np.pi*angle/180.0)+np.sqrt((n**2-(np.sin(np.pi*angle/180.0))**2)+0j)))\n",
    "\treturn lb\n",
    "\n",
    "salinity =  35 #value search on internet based on salinity in singapore\n",
    "oceanT =  273+26 #26 celsius for shallow water about 70m deep.\n",
    "ft = 21.9*10**(6-1520/oceanT)\n",
    "\n",
    "def findla (salinity, ft, f, distance):\n",
    "\tglobal la\n",
    "\tla = np.exp(-0.998*distance*(((salinity*(2.34*10**-6)*ft*f)/(ft**2+f**2))+(((3.38*10**-6)*f**2)/(ft))))\n",
    "\treturn la\n",
    "\n",
    "tao = 0\n",
    "def findTao(distance1, distance2):\n",
    "\tglobal tao\n",
    "\ttao = (distance1 - distance2)/1500 #speed of light\n",
    "\treturn tao\n",
    "\n",
    "#def findDelay(tao,distance, distanceD):\n",
    "#\tfindTao(distance, distanceD)\n",
    "#\td = round(tao*10**9,0)/10**9 #frequency sampling\n",
    "#\tdelay.append(d)"
   ]
  },
  {
   "cell_type": "code",
   "execution_count": 8,
   "metadata": {},
   "outputs": [],
   "source": [
    "def findBj(DirectDelta,s,b,e):\n",
    "\tfindDistance(h,r,d1,d2,s,b)\n",
    "\tfindAngle(h,r,d1,d2,s,b)\n",
    "\tfindTao(distance, distanceD)\n",
    "\td = round(tao*10**9,0) #frequency sampling\n",
    "\tdelay.append(d)\n",
    "\tprint (\"value of s: \", s, \"and value of b:\", b)\n",
    "\tprint (\"Distance for the \", e, \"eigen path is: \", round(distance,4))\n",
    "\tfindla(salinity, ft, f, distance)\n",
    "\tBj = lss*la*(findlb(angle,m,n,s,b)**b)*(DirectDelta)\n",
    "\tif s>b:\n",
    "\t\tBj = -Bj\n",
    "\tHn.append(Bj)\n",
    "\n",
    "\treturn Hn"
   ]
  },
  {
   "cell_type": "code",
   "execution_count": 9,
   "metadata": {},
   "outputs": [
    {
     "name": "stdout",
     "output_type": "stream",
     "text": [
      "lss is:  0.01\n"
     ]
    }
   ],
   "source": [
    "#for the first direct Eigenpath\n",
    "findlss(r)\n",
    "distanceD = findDistance(h,r,d1,d2,0,0)\n",
    "print (\"lss is: \", round(lss,3))\n",
    "\n",
    "#Direct Delta function\n",
    "DirectDelta = 1\n"
   ]
  },
  {
   "cell_type": "code",
   "execution_count": 10,
   "metadata": {},
   "outputs": [
    {
     "name": "stdout",
     "output_type": "stream",
     "text": [
      "value of s:  0 and value of b: 0\n",
      "Distance for the  1 eigen path is:  100.02\n",
      "value of s:  1 and value of b: 0\n",
      "Distance for the  2 eigen path is:  100.7174\n",
      "value of s:  0 and value of b: 1\n",
      "Distance for the  3 eigen path is:  234.4014\n",
      "value of s:  1 and value of b: 1\n",
      "Distance for the  4 eigen path is:  225.3974\n",
      "value of s:  2 and value of b: 1\n",
      "Distance for the  5 eigen path is:  234.4014\n",
      "value of s:  1 and value of b: 2\n",
      "Distance for the  6 eigen path is:  423.9623\n",
      "value of s:  2 and value of b: 2\n",
      "Distance for the  7 eigen path is:  414.2511\n",
      "value of s:  3 and value of b: 2\n",
      "Distance for the  8 eigen path is:  423.9623\n",
      "value of s:  2 and value of b: 3\n",
      "Distance for the  9 eigen path is:  620.1161\n",
      "value of s:  3 and value of b: 3\n",
      "Distance for the  10 eigen path is:  610.2491\n",
      "Delay Value:  [0.0, 464952.0, 89587578.0, 83584953.0, 89587578.0, 215961510.0, 209487422.0, 215961510.0, 346730747.0, 340152754.0]\n",
      "Impulse Response: [0.0099936226542072012, -0.0099935781999546374, 0.0023229861563311819, 0.0023092054171581595, -0.0023008108810308159, 0.00050386821992345237, 0.00050316957618225721, -0.00050266256320309578, 0.00011110320408472027, 0.00011103949876093647]\n"
     ]
    },
    {
     "data": {
      "image/png": "[encoded data removed]",
      "text/plain": [
       "<matplotlib.figure.Figure at 0x1c18736d68>"
      ]
     },
     "metadata": {},
     "output_type": "display_data"
    }
   ],
   "source": [
    "#iterating function (non-recursive)\n",
    "Hn = []\n",
    "delay = []\n",
    "s,b,e = [0,0,0]\n",
    "for j in range (int(eigen/3)+1):\n",
    "\tfor i in range (3):\n",
    "\t\tif eigen == e:\n",
    "\t\t\tbreak\n",
    "\t\te += 1\n",
    "\t\tfindBj(DirectDelta,s,b,e)\n",
    "\t\t#to change the s and b values\n",
    "\t\tif i == 0 or i == 2:\n",
    "\t\t\ts+= 1\n",
    "\t\telif i == 1:\n",
    "\t\t\ts-= 1\n",
    "\t\t\tb+= 1\n",
    "            \n",
    "#plotting the impulse response\n",
    "print (\"Delay Value: \", delay)\n",
    "print (\"Impulse Response:\", Hn)\n",
    "plt.plot()\n",
    "plt.stem(delay,Hn,'-')\n",
    "plt.show()"
   ]
  },
  {
   "cell_type": "code",
   "execution_count": 11,
   "metadata": {},
   "outputs": [
    {
     "name": "stdout",
     "output_type": "stream",
     "text": [
      "s1:  [ 0.011109    0.07070077  0.27637807  0.66361036  0.97870739  0.88658978\n",
      "  0.49331317  0.16859816  0.03539265  0.00456356]\n",
      "s2:  [0.0099936226542072012, -0.0099935781999546374, 0.0023229861563311819, 0.0023092054171581595, -0.0023008108810308159, 0.00050386821992345237, 0.00050316957618225721, -0.00050266256320309578, 0.00011110320408472027, 0.00011103949876093647]\n",
      "temp_s1 (pure input):  [ 0.          0.          0.          0.          0.          0.          0.\n",
      "  0.          0.          0.011109    0.07070077  0.27637807  0.66361036\n",
      "  0.97870739  0.88658978  0.49331317  0.16859816  0.03539265  0.00456356]\n",
      "temp_s2 (pure input):  [ 0.00011104  0.0001111  -0.00050266  0.00050317  0.00050387 -0.00230081\n",
      "  0.00230921  0.00232299 -0.00999358  0.00999362  0.          0.          0.\n",
      "  0.          0.          0.          0.          0.          0.        ]\n",
      "temp_s2 (when i==0):  [ 0.00011104  0.0001111  -0.00050266  0.00050317  0.00050387 -0.00230081\n",
      "  0.00230921  0.00232299 -0.00999358  0.00999362  0.          0.          0.\n",
      "  0.          0.          0.          0.          0.          0.        ]\n",
      "temp_s1 (when i==0):  [ 0.          0.          0.          0.          0.          0.          0.\n",
      "  0.          0.          0.011109    0.07070077  0.27637807  0.66361036\n",
      "  0.97870739  0.88658978  0.49331317  0.16859816  0.03539265  0.00456356]\n",
      "temp_s2:  [ 0.00011104  0.0001111  -0.00050266  0.00050317  0.00050387 -0.00230081\n",
      "  0.00230921  0.00232299 -0.00999358  0.00999362  0.          0.          0.\n",
      "  0.          0.          0.          0.          0.          0.        ]\n",
      "temp_s1:  [ 0.          0.          0.          0.          0.          0.          0.\n",
      "  0.          0.011109    0.07070077  0.27637807  0.66361036  0.97870739\n",
      "  0.88658978  0.49331317  0.16859816  0.03539265  0.00456356  0.        ]\n",
      "temp_s2:  [ 0.00011104  0.0001111  -0.00050266  0.00050317  0.00050387 -0.00230081\n",
      "  0.00230921  0.00232299 -0.00999358  0.00999362  0.          0.          0.\n",
      "  0.          0.          0.          0.          0.          0.        ]\n",
      "temp_s1:  [ 0.          0.          0.          0.          0.          0.          0.\n",
      "  0.011109    0.07070077  0.27637807  0.66361036  0.97870739  0.88658978\n",
      "  0.49331317  0.16859816  0.03539265  0.00456356  0.          0.        ]\n",
      "temp_s2:  [ 0.00011104  0.0001111  -0.00050266  0.00050317  0.00050387 -0.00230081\n",
      "  0.00230921  0.00232299 -0.00999358  0.00999362  0.          0.          0.\n",
      "  0.          0.          0.          0.          0.          0.        ]\n",
      "temp_s1:  [ 0.          0.          0.          0.          0.          0.          0.011109\n",
      "  0.07070077  0.27637807  0.66361036  0.97870739  0.88658978  0.49331317\n",
      "  0.16859816  0.03539265  0.00456356  0.          0.          0.        ]\n",
      "temp_s2:  [ 0.00011104  0.0001111  -0.00050266  0.00050317  0.00050387 -0.00230081\n",
      "  0.00230921  0.00232299 -0.00999358  0.00999362  0.          0.          0.\n",
      "  0.          0.          0.          0.          0.          0.        ]\n",
      "temp_s1:  [ 0.          0.          0.          0.          0.          0.011109\n",
      "  0.07070077  0.27637807  0.66361036  0.97870739  0.88658978  0.49331317\n",
      "  0.16859816  0.03539265  0.00456356  0.          0.          0.          0.        ]\n",
      "temp_s2:  [ 0.00011104  0.0001111  -0.00050266  0.00050317  0.00050387 -0.00230081\n",
      "  0.00230921  0.00232299 -0.00999358  0.00999362  0.          0.          0.\n",
      "  0.          0.          0.          0.          0.          0.        ]\n",
      "temp_s1:  [ 0.          0.          0.          0.          0.011109    0.07070077\n",
      "  0.27637807  0.66361036  0.97870739  0.88658978  0.49331317  0.16859816\n",
      "  0.03539265  0.00456356  0.          0.          0.          0.          0.        ]\n",
      "temp_s2:  [ 0.00011104  0.0001111  -0.00050266  0.00050317  0.00050387 -0.00230081\n",
      "  0.00230921  0.00232299 -0.00999358  0.00999362  0.          0.          0.\n",
      "  0.          0.          0.          0.          0.          0.        ]\n",
      "temp_s1:  [ 0.          0.          0.          0.011109    0.07070077  0.27637807\n",
      "  0.66361036  0.97870739  0.88658978  0.49331317  0.16859816  0.03539265\n",
      "  0.00456356  0.          0.          0.          0.          0.          0.        ]\n",
      "temp_s2:  [ 0.00011104  0.0001111  -0.00050266  0.00050317  0.00050387 -0.00230081\n",
      "  0.00230921  0.00232299 -0.00999358  0.00999362  0.          0.          0.\n",
      "  0.          0.          0.          0.          0.          0.        ]\n",
      "temp_s1:  [ 0.          0.          0.011109    0.07070077  0.27637807  0.66361036\n",
      "  0.97870739  0.88658978  0.49331317  0.16859816  0.03539265  0.00456356\n",
      "  0.          0.          0.          0.          0.          0.          0.        ]\n",
      "temp_s2:  [ 0.00011104  0.0001111  -0.00050266  0.00050317  0.00050387 -0.00230081\n",
      "  0.00230921  0.00232299 -0.00999358  0.00999362  0.          0.          0.\n",
      "  0.          0.          0.          0.          0.          0.        ]\n",
      "temp_s1:  [ 0.          0.011109    0.07070077  0.27637807  0.66361036  0.97870739\n",
      "  0.88658978  0.49331317  0.16859816  0.03539265  0.00456356  0.          0.\n",
      "  0.          0.          0.          0.          0.          0.        ]\n",
      "temp_s2:  [ 0.00011104  0.0001111  -0.00050266  0.00050317  0.00050387 -0.00230081\n",
      "  0.00230921  0.00232299 -0.00999358  0.00999362  0.          0.          0.\n",
      "  0.          0.          0.          0.          0.          0.        ]\n",
      "temp_s1:  [ 0.011109    0.07070077  0.27637807  0.66361036  0.97870739  0.88658978\n",
      "  0.49331317  0.16859816  0.03539265  0.00456356  0.          0.          0.\n",
      "  0.          0.          0.          0.          0.          0.        ]\n",
      "temp_s2:  [ 0.00011104  0.0001111  -0.00050266  0.00050317  0.00050387 -0.00230081\n",
      "  0.00230921  0.00232299 -0.00999358  0.00999362  0.          0.          0.\n",
      "  0.          0.          0.          0.          0.          0.        ]\n",
      "temp_s1:  [ 0.07070077  0.27637807  0.66361036  0.97870739  0.88658978  0.49331317\n",
      "  0.16859816  0.03539265  0.00456356  0.          0.          0.          0.\n",
      "  0.          0.          0.          0.          0.          0.011109  ]\n",
      "temp_s2:  [ 0.00011104  0.0001111  -0.00050266  0.00050317  0.00050387 -0.00230081\n",
      "  0.00230921  0.00232299 -0.00999358  0.00999362  0.          0.          0.\n",
      "  0.          0.          0.          0.          0.          0.        ]\n",
      "temp_s1:  [ 0.27637807  0.66361036  0.97870739  0.88658978  0.49331317  0.16859816\n",
      "  0.03539265  0.00456356  0.          0.          0.          0.          0.\n",
      "  0.          0.          0.          0.          0.011109    0.07070077]\n",
      "temp_s2:  [ 0.00011104  0.0001111  -0.00050266  0.00050317  0.00050387 -0.00230081\n",
      "  0.00230921  0.00232299 -0.00999358  0.00999362  0.          0.          0.\n",
      "  0.          0.          0.          0.          0.          0.        ]\n",
      "temp_s1:  [ 0.66361036  0.97870739  0.88658978  0.49331317  0.16859816  0.03539265\n",
      "  0.00456356  0.          0.          0.          0.          0.          0.\n",
      "  0.          0.          0.          0.011109    0.07070077  0.27637807]\n",
      "temp_s2:  [ 0.00011104  0.0001111  -0.00050266  0.00050317  0.00050387 -0.00230081\n",
      "  0.00230921  0.00232299 -0.00999358  0.00999362  0.          0.          0.\n",
      "  0.          0.          0.          0.          0.          0.        ]\n",
      "temp_s1:  [ 0.97870739  0.88658978  0.49331317  0.16859816  0.03539265  0.00456356\n",
      "  0.          0.          0.          0.          0.          0.          0.\n",
      "  0.          0.          0.011109    0.07070077  0.27637807  0.66361036]\n",
      "temp_s2:  [ 0.00011104  0.0001111  -0.00050266  0.00050317  0.00050387 -0.00230081\n",
      "  0.00230921  0.00232299 -0.00999358  0.00999362  0.          0.          0.\n",
      "  0.          0.          0.          0.          0.          0.        ]\n",
      "temp_s1:  [ 0.88658978  0.49331317  0.16859816  0.03539265  0.00456356  0.          0.\n",
      "  0.          0.          0.          0.          0.          0.          0.\n",
      "  0.011109    0.07070077  0.27637807  0.66361036  0.97870739]\n",
      "temp_s2:  [ 0.00011104  0.0001111  -0.00050266  0.00050317  0.00050387 -0.00230081\n",
      "  0.00230921  0.00232299 -0.00999358  0.00999362  0.          0.          0.\n",
      "  0.          0.          0.          0.          0.          0.        ]\n",
      "temp_s1:  [ 0.49331317  0.16859816  0.03539265  0.00456356  0.          0.          0.\n",
      "  0.          0.          0.          0.          0.          0.          0.011109\n",
      "  0.07070077  0.27637807  0.66361036  0.97870739  0.88658978]\n",
      "temp_s2:  [ 0.00011104  0.0001111  -0.00050266  0.00050317  0.00050387 -0.00230081\n",
      "  0.00230921  0.00232299 -0.00999358  0.00999362  0.          0.          0.\n",
      "  0.          0.          0.          0.          0.          0.        ]\n",
      "temp_s1:  [ 0.16859816  0.03539265  0.00456356  0.          0.          0.          0.\n",
      "  0.          0.          0.          0.          0.          0.011109\n",
      "  0.07070077  0.27637807  0.66361036  0.97870739  0.88658978  0.49331317]\n",
      "temp_s2:  [ 0.00011104  0.0001111  -0.00050266  0.00050317  0.00050387 -0.00230081\n",
      "  0.00230921  0.00232299 -0.00999358  0.00999362  0.          0.          0.\n",
      "  0.          0.          0.          0.          0.          0.        ]\n",
      "temp_s1:  [ 0.03539265  0.00456356  0.          0.          0.          0.          0.\n",
      "  0.          0.          0.          0.          0.011109    0.07070077\n",
      "  0.27637807  0.66361036  0.97870739  0.88658978  0.49331317  0.16859816]\n",
      "temp_s2:  [ 0.00011104  0.0001111  -0.00050266  0.00050317  0.00050387 -0.00230081\n",
      "  0.00230921  0.00232299 -0.00999358  0.00999362  0.          0.          0.\n",
      "  0.          0.          0.          0.          0.          0.        ]\n",
      "temp_s1:  [ 0.00456356  0.          0.          0.          0.          0.          0.\n",
      "  0.          0.          0.          0.011109    0.07070077  0.27637807\n",
      "  0.66361036  0.97870739  0.88658978  0.49331317  0.16859816  0.03539265]\n"
     ]
    }
   ],
   "source": [
    "#convolution code\n",
    "s1 = Tx\n",
    "s2 = Hn\n",
    "print ('s1: ', s1)\n",
    "print ('s2: ', s2)\n",
    "s3 = np.flip(s2,0)\n",
    "length = len(s1)+len(s2)-1\n",
    "\n",
    "s1_zeros = length - len(s1)\n",
    "s3_zeros = length - len(s3)\n",
    "\n",
    "temp_s1 = np.concatenate((np.zeros(s1_zeros),s1))\n",
    "temp_s2 = np.concatenate((s3, np.zeros(s3_zeros)))\n",
    "print('temp_s1 (pure input): ', temp_s1)\n",
    "print('temp_s2 (pure input): ', temp_s2)\n",
    "\n",
    "mul = 0\n",
    "out = np.zeros(length)\n",
    "\n",
    "for i in range(length):\n",
    "\tif(i==0):\n",
    "\t\tmul = temp_s1*temp_s2\n",
    "\t\tprint('temp_s2 (when i==0): ', temp_s2)\n",
    "\t\tprint('temp_s1 (when i==0): ', temp_s1)\n",
    "\t\tout[i] = sum(mul)\n",
    "\telse:\n",
    "\t\ttemp_s1 = np.concatenate((temp_s1[1:],temp_s1[:1]))#left shift, not sure how to do right shift\n",
    "\t\tprint('temp_s2: ', temp_s2)\n",
    "\t\tprint('temp_s1: ', temp_s1)\n",
    "\t\tmul = temp_s1*temp_s2\n",
    "\t\tout[i] = sum(mul)"
   ]
  },
  {
   "cell_type": "code",
   "execution_count": 12,
   "metadata": {},
   "outputs": [
    {
     "name": "stdout",
     "output_type": "stream",
     "text": [
      "Delay Value:  [0.0, 464952.0, 89587578.0, 83584953.0, 89587578.0, 215961510.0, 209487422.0, 215961510.0, 346730747.0, 340152754.0]\n",
      "Impulse Response: [0.0099936226542072012, -0.0099935781999546374, 0.0023229861563311819, 0.0023092054171581595, -0.0023008108810308159, 0.00050386821992345237, 0.00050316957618225721, -0.00050266256320309578, 0.00011110320408472027, 0.00011103949876093647]\n",
      "Final signal:  [  1.11019119e-04   5.95538178e-04   2.08127051e-03   4.05975551e-03\n",
      "   3.92871572e-03   1.10215461e-03  -7.18962369e-04  -2.83078528e-04\n",
      "   4.93916744e-05  -1.19943730e-04  -6.49169626e-05   1.15458817e-05\n",
      "  -9.53175247e-07   5.13748974e-05   8.86151113e-05   5.80147253e-05\n",
      "   2.03593629e-05   4.43700807e-06   5.06735100e-07]\n"
     ]
    },
    {
     "data": {
      "image/png": "[encoded data removed]",
      "text/plain": [
       "<matplotlib.figure.Figure at 0x1c136fb908>"
      ]
     },
     "metadata": {},
     "output_type": "display_data"
    }
   ],
   "source": [
    "#plotting the final Receiving Signal\n",
    "print (\"Delay Value: \", delay)\n",
    "print (\"Impulse Response:\", Hn)\n",
    "print (\"Final signal: \", out)\n",
    "x_axis = np.linspace(1,len(out),len(out))\n",
    "plt.plot(x_axis,out)\n",
    "plt.show()"
   ]
  },
  {
   "cell_type": "code",
   "execution_count": null,
   "metadata": {},
   "outputs": [],
   "source": []
  }
 ],
 "metadata": {
  "kernelspec": {
   "display_name": "Python 3",
   "language": "python",
   "name": "python3"
  },
  "language_info": {
   "codemirror_mode": {
    "name": "ipython",
    "version": 3
   },
   "file_extension": ".py",
   "mimetype": "text/x-python",
   "name": "python",
   "nbconvert_exporter": "python",
   "pygments_lexer": "ipython3",
   "version": "3.6.3"
  }
 },
 "nbformat": 4,
 "nbformat_minor": 2
}
