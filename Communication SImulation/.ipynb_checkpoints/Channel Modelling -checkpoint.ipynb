{
 "cells": [
  {
   "cell_type": "code",
   "execution_count": null,
   "metadata": {
    "collapsed": true
   },
   "outputs": [],
   "source": [
    "#Libraries to needed for the code\n",
    "from scipy import signal \n",
    "import numpy as np\n",
    "import timeit\n",
    "\n",
    "import arlpy.uwapm as pm\n",
    "import arlpy.plot as aplt\n",
    "\n",
    "import matplotlib.pyplot as plt\n",
    "from mpl_toolkits.mplot3d import Axes3D\n",
    "\n",
    "from bokeh.models.annotations import Title\n",
    "from bokeh.io import output_notebook, show\n",
    "from bokeh.plotting import figure\n",
    "from bokeh.palettes import Category10,viridis,Spectral11\n",
    "from bokeh.models import ColumnDataSource, Range1d, BoxAnnotation, HoverTool, LogColorMapper, LogTicker, ColorBar\n",
    "output_notebook()\n",
    "\n",
    "samplefreq = 100*10**3 #Hz\n",
    "\n",
    "def impulse_response(h,r,d1,d2,samplefreq, fc, **kwargs):\n",
    "    Type = kwargs.get('Type', 'valid')\n",
    "\n",
    "    ssp = 1500\n",
    "    \n",
    "    surface = np.array([[r, 0.5+0.5*np.sin(2*np.pi*0.05*r)] for r in np.linspace(0,1000,1001)])\n",
    "    maxAngle = 85 #180*(np.arctan(h/(r/2)))/np.pi \n",
    "    env = pm.create_env2d(depth = h, rx_range = r, tx_depth = d1, rx_depth = d2, frequency = fc, max_angle = maxAngle, min_angle = -maxAngle, surface = surface, soundspeed = ssp)\n",
    "    arrivals = pm.compute_arrivals(env)\n",
    "    Hn = pm.arrivals_to_impulse_response(arrivals,samplefreq)\n",
    "    \n",
    "    if Type == 'valid':\n",
    "        return Hn.real\n",
    "    if Type == 'full':\n",
    "        return env, arrivals, Hn.real\n",
    "    \n",
    "\n",
    "def multiFrequencyResponse(h,r,d1,d2_list,samplefreq, fc, bw, **kwargs):\n",
    "\n",
    "    lowfreq = fc-(bw/2.0)\n",
    "    highfreq = fc+(bw/2.0)\n",
    "\n",
    "    freq_final_list = []\n",
    "    max_final_new_list = []\n",
    "    \n",
    "    for d2 in d2_list:\n",
    "        Hn = impulse_response(h,r,d1,d2,samplefreq,fc)\n",
    "        max_new_list = np.abs(np.fft.rfft(Hn))\n",
    "        signalSize = len(Hn)\n",
    "        freq_l = np.fft.fftfreq(signalSize,1000/samplefreq)\n",
    "        count_low, count_high = 0,0\n",
    "        for i in range(len(freq_l)):\n",
    "            if freq_l[i] <= lowfreq and freq_l[i] >=0:\n",
    "                count_low += 1\n",
    "            if freq_l[i] >= highfreq or freq_l[i] <=0:\n",
    "                count_high += 1\n",
    "\n",
    "        max_new_list = max_new_list[count_low:len(max_new_list)-count_high]\n",
    "        freq_list = freq_l[count_low:len(freq_l)-count_high]\n",
    "\n",
    "        freq_final_list.append(freq_list)\n",
    "        max_final_new_list.append(max_new_list)\n",
    "\n",
    "    return freq_final_list, max_final_new_list\n"
   ]
  }
 ],
 "metadata": {
  "kernelspec": {
   "display_name": "Python 3",
   "language": "python",
   "name": "python3"
  },
  "language_info": {
   "codemirror_mode": {
    "name": "ipython",
    "version": 3
   },
   "file_extension": ".py",
   "mimetype": "text/x-python",
   "name": "python",
   "nbconvert_exporter": "python",
   "pygments_lexer": "ipython3",
   "version": "3.6.3"
  }
 },
 "nbformat": 4,
 "nbformat_minor": 2
}
